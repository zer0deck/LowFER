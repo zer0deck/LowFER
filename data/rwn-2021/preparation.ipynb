{
 "cells": [
  {
   "cell_type": "code",
   "execution_count": 1,
   "metadata": {},
   "outputs": [
    {
     "data": {
      "text/html": [
       "<div>\n",
       "<style scoped>\n",
       "    .dataframe tbody tr th:only-of-type {\n",
       "        vertical-align: middle;\n",
       "    }\n",
       "\n",
       "    .dataframe tbody tr th {\n",
       "        vertical-align: top;\n",
       "    }\n",
       "\n",
       "    .dataframe thead th {\n",
       "        text-align: right;\n",
       "    }\n",
       "</style>\n",
       "<table border=\"1\" class=\"dataframe\">\n",
       "  <thead>\n",
       "    <tr style=\"text-align: right;\">\n",
       "      <th></th>\n",
       "      <th>name</th>\n",
       "      <th>child_id</th>\n",
       "      <th>parent_id</th>\n",
       "    </tr>\n",
       "  </thead>\n",
       "  <tbody>\n",
       "    <tr>\n",
       "      <th>0</th>\n",
       "      <td>POS-synonymy</td>\n",
       "      <td>114383-N</td>\n",
       "      <td>114383-A</td>\n",
       "    </tr>\n",
       "    <tr>\n",
       "      <th>1</th>\n",
       "      <td>domain</td>\n",
       "      <td>4525-N</td>\n",
       "      <td>114383-A</td>\n",
       "    </tr>\n",
       "    <tr>\n",
       "      <th>2</th>\n",
       "      <td>domain</td>\n",
       "      <td>540-N</td>\n",
       "      <td>114383-A</td>\n",
       "    </tr>\n",
       "    <tr>\n",
       "      <th>3</th>\n",
       "      <td>hypernym</td>\n",
       "      <td>8681-A</td>\n",
       "      <td>114383-A</td>\n",
       "    </tr>\n",
       "    <tr>\n",
       "      <th>4</th>\n",
       "      <td>POS-synonymy</td>\n",
       "      <td>100007-N</td>\n",
       "      <td>100007-A</td>\n",
       "    </tr>\n",
       "    <tr>\n",
       "      <th>5</th>\n",
       "      <td>domain</td>\n",
       "      <td>1702-N</td>\n",
       "      <td>100007-A</td>\n",
       "    </tr>\n",
       "    <tr>\n",
       "      <th>6</th>\n",
       "      <td>hypernym</td>\n",
       "      <td>246-A</td>\n",
       "      <td>100007-A</td>\n",
       "    </tr>\n",
       "  </tbody>\n",
       "</table>\n",
       "</div>"
      ],
      "text/plain": [
       "           name  child_id parent_id\n",
       "0  POS-synonymy  114383-N  114383-A\n",
       "1        domain    4525-N  114383-A\n",
       "2        domain     540-N  114383-A\n",
       "3      hypernym    8681-A  114383-A\n",
       "4  POS-synonymy  100007-N  100007-A\n",
       "5        domain    1702-N  100007-A\n",
       "6      hypernym     246-A  100007-A"
      ]
     },
     "execution_count": 1,
     "metadata": {},
     "output_type": "execute_result"
    }
   ],
   "source": [
    "import pandas as pd\n",
    "import numpy as np\n",
    "\n",
    "df1 = pd.read_xml(\"original_data/synset_relations.A.xml\")\n",
    "df2 = pd.read_xml(\"original_data/synset_relations.N.xml\")\n",
    "df3 = pd.read_xml(\"original_data/synset_relations.V.xml\")\n",
    "df1.head(7)"
   ]
  },
  {
   "cell_type": "code",
   "execution_count": 2,
   "metadata": {},
   "outputs": [
    {
     "data": {
      "text/html": [
       "<div>\n",
       "<style scoped>\n",
       "    .dataframe tbody tr th:only-of-type {\n",
       "        vertical-align: middle;\n",
       "    }\n",
       "\n",
       "    .dataframe tbody tr th {\n",
       "        vertical-align: top;\n",
       "    }\n",
       "\n",
       "    .dataframe thead th {\n",
       "        text-align: right;\n",
       "    }\n",
       "</style>\n",
       "<table border=\"1\" class=\"dataframe\">\n",
       "  <thead>\n",
       "    <tr style=\"text-align: right;\">\n",
       "      <th></th>\n",
       "      <th>child_id</th>\n",
       "      <th>name</th>\n",
       "      <th>parent_id</th>\n",
       "    </tr>\n",
       "  </thead>\n",
       "  <tbody>\n",
       "    <tr>\n",
       "      <th>0</th>\n",
       "      <td>11438302</td>\n",
       "      <td>POS_synonymy</td>\n",
       "      <td>11438301</td>\n",
       "    </tr>\n",
       "    <tr>\n",
       "      <th>1</th>\n",
       "      <td>452502</td>\n",
       "      <td>domain</td>\n",
       "      <td>11438301</td>\n",
       "    </tr>\n",
       "    <tr>\n",
       "      <th>2</th>\n",
       "      <td>54002</td>\n",
       "      <td>domain</td>\n",
       "      <td>11438301</td>\n",
       "    </tr>\n",
       "    <tr>\n",
       "      <th>3</th>\n",
       "      <td>868101</td>\n",
       "      <td>hypernym</td>\n",
       "      <td>11438301</td>\n",
       "    </tr>\n",
       "    <tr>\n",
       "      <th>4</th>\n",
       "      <td>10000702</td>\n",
       "      <td>POS_synonymy</td>\n",
       "      <td>10000701</td>\n",
       "    </tr>\n",
       "    <tr>\n",
       "      <th>5</th>\n",
       "      <td>170202</td>\n",
       "      <td>domain</td>\n",
       "      <td>10000701</td>\n",
       "    </tr>\n",
       "    <tr>\n",
       "      <th>6</th>\n",
       "      <td>24601</td>\n",
       "      <td>hypernym</td>\n",
       "      <td>10000701</td>\n",
       "    </tr>\n",
       "  </tbody>\n",
       "</table>\n",
       "</div>"
      ],
      "text/plain": [
       "   child_id          name parent_id\n",
       "0  11438302  POS_synonymy  11438301\n",
       "1    452502        domain  11438301\n",
       "2     54002        domain  11438301\n",
       "3    868101      hypernym  11438301\n",
       "4  10000702  POS_synonymy  10000701\n",
       "5    170202        domain  10000701\n",
       "6     24601      hypernym  10000701"
      ]
     },
     "execution_count": 2,
     "metadata": {},
     "output_type": "execute_result"
    }
   ],
   "source": [
    "df1 = df1[[\"child_id\", \"name\", \"parent_id\"]]\n",
    "df2 = df2[[\"child_id\", \"name\", \"parent_id\"]]\n",
    "df3 = df3[[\"child_id\", \"name\", \"parent_id\"]]\n",
    "\n",
    "df = pd.concat([df1, df2, df3])\n",
    "df['name'] = df['name'].str.replace('-','_')\n",
    "df['name'] = df['name'].str.replace(' ','_')\n",
    "for i in ['child_id', 'parent_id']:\n",
    "    df[i] = df[i].str.replace('-A','01')\n",
    "    df[i] = df[i].str.replace('-N','02')\n",
    "    df[i] = df[i].str.replace('-V','03')\n",
    "df.head(7)"
   ]
  },
  {
   "cell_type": "code",
   "execution_count": 3,
   "metadata": {},
   "outputs": [],
   "source": [
    "train, validate, test = np.split(df.sample(frac=1, random_state=42), \n",
    "                       [int(.6*len(df)), int(.8*len(df))])"
   ]
  },
  {
   "cell_type": "code",
   "execution_count": 4,
   "metadata": {},
   "outputs": [],
   "source": [
    "d = {'train': train, 'valid': validate, 'test': test}\n",
    "for key, val in d.items():\n",
    "    val.to_csv(f'{key}.txt', header=None, index=None, sep=' ', mode='a')"
   ]
  }
 ],
 "metadata": {
  "kernelspec": {
   "display_name": "Python 3.10.5 ('base')",
   "language": "python",
   "name": "python3"
  },
  "language_info": {
   "codemirror_mode": {
    "name": "ipython",
    "version": 3
   },
   "file_extension": ".py",
   "mimetype": "text/x-python",
   "name": "python",
   "nbconvert_exporter": "python",
   "pygments_lexer": "ipython3",
   "version": "3.10.5"
  },
  "orig_nbformat": 4,
  "vscode": {
   "interpreter": {
    "hash": "46c168fd52d291dd23903e2c88b9ae527e7f23c5ddcc1bd37dc334d6111e390c"
   }
  }
 },
 "nbformat": 4,
 "nbformat_minor": 2
}
